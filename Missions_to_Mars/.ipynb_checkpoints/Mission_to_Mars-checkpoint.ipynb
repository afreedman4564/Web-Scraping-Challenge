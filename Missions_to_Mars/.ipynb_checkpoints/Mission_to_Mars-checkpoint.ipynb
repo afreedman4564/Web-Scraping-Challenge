{
 "cells": [
  {
   "cell_type": "code",
   "execution_count": 11,
   "id": "1f02e479",
   "metadata": {},
   "outputs": [],
   "source": [
    "# include dependencies\n",
    "\n",
    "from splinter import Browser\n",
    "from bs4 import BeautifulSoup as bs\n",
    "import time\n",
    "from webdriver_manager.chrome import ChromeDriverManager\n",
    "import requests\n",
    "\n",
    "from flask import Flask, render_template, redirect\n",
    "from flask_pymongo import PyMongo\n",
    "from pprint import pprint\n"
   ]
  },
  {
   "cell_type": "code",
   "execution_count": null,
   "id": "8acfde03",
   "metadata": {},
   "outputs": [],
   "source": [
    "def scrape_info():\n",
    "    # Set up Splinter\n",
    "    executable_path = {'executable_path': ChromeDriverManager().install()}\n",
    "    browser = Browser('chrome', **executable_path, headless=False)\n",
    "\n",
    "    # Visit visitcostarica.herokuapp.com\n",
    "    url = \"https://redplanetscience.com/\"\n",
    "    browser.visit(url)\n",
    "    \n",
    "    # Scrape page into Soup\n",
    "    html = browser.html\n",
    "    soup = bs(html, \"html.parser\")\n",
    "\n",
    "    # Get the latest news title\n",
    "    news_info = bs.find('div', id = 'news')\n",
    "    \n",
    "    # Get latest news title\n",
    "    news_title = news_info.find_all(\"content_title\").text\n",
    "    \n",
    "    #store data in dictionary\n",
    "#     mars_dict = {\n",
    "#         news_article\n",
    "#     }\n",
    "    \n",
    "    return news_title\n",
    "    "
   ]
  },
  {
   "cell_type": "code",
   "execution_count": 26,
   "id": "c6921fc1",
   "metadata": {},
   "outputs": [
    {
     "name": "stderr",
     "output_type": "stream",
     "text": [
      "\n",
      "\n",
      "====== WebDriver manager ======\n",
      "Could not get version for google-chrome with the command:  powershell \"$ErrorActionPreference='silentlycontinue' ; (Get-Item -Path \"$env:PROGRAMFILES\\Google\\Chrome\\Application\\chrome.exe\").VersionInfo.FileVersion ; if (-not $? -or $? -match $error) { (Get-Item -Path \"$env:PROGRAMFILES(x86)\\Google\\Chrome\\Application\\chrome.exe\").VersionInfo.FileVersion } if (-not $? -or $? -match $error) { (Get-Item -Path \"$env:LOCALAPPDATA\\Google\\Chrome\\Application\\chrome.exe\").VersionInfo.FileVersion } if (-not $? -or $? -match $error) { reg query \"HKCU\\SOFTWARE\\Google\\Chrome\\BLBeacon\" /v version } if (-not $? -or $? -match $error) { reg query \"HKLM\\SOFTWARE\\Wow6432Node\\Microsoft\\Windows\\CurrentVersion\\Uninstall\\Google Chrome\" /v version }\"\n",
      "Current google-chrome version is UNKNOWN\n",
      "Get LATEST chromedriver version for UNKNOWN google-chrome\n",
      "Trying to download new driver from https://chromedriver.storage.googleapis.com/99.0.4844.51/chromedriver_win32.zip\n",
      "Driver has been saved in cache [C:\\Users\\freed\\.wdm\\drivers\\chromedriver\\win32\\99.0.4844.51]\n"
     ]
    },
    {
     "data": {
      "text/plain": [
       "[<div class=\"content_title\">NASA's InSight Flexes Its Arm While Its 'Mole' Hits Pause</div>,\n",
       " <div class=\"content_title\">NASA's Perseverance Rover Will Look at Mars Through These 'Eyes'</div>,\n",
       " <div class=\"content_title\">NASA Readies Perseverance Mars Rover's Earthly Twin </div>,\n",
       " <div class=\"content_title\">NASA Moves Forward With Campaign to Return Mars Samples to Earth</div>,\n",
       " <div class=\"content_title\">What's Mars Solar Conjunction, and Why Does It Matter?</div>,\n",
       " <div class=\"content_title\">NASA's Perseverance Rover Will Peer Beneath Mars' Surface </div>,\n",
       " <div class=\"content_title\">NASA's Mars Perseverance Rover Gets Its Sample Handling System</div>,\n",
       " <div class=\"content_title\">Mars Helicopter Attached to NASA's Perseverance Rover</div>,\n",
       " <div class=\"content_title\">Global Storms on Mars Launch Dust Towers Into the Sky</div>,\n",
       " <div class=\"content_title\">Nine Finalists Chosen in NASA's Mars 2020 Rover Naming Contest</div>,\n",
       " <div class=\"content_title\">From JPL's Mailroom to Mars and Beyond</div>,\n",
       " <div class=\"content_title\">Mars InSight Lander to Push on Top of the 'Mole'</div>,\n",
       " <div class=\"content_title\">NASA Establishes Board to Initially Review Mars Sample Return Plans</div>,\n",
       " <div class=\"content_title\">Scientists Explore Outback as Testbed for Mars </div>,\n",
       " <div class=\"content_title\">NASA's Curiosity Keeps Rolling As Team Operates Rover From Home</div>]"
      ]
     },
     "execution_count": 26,
     "metadata": {},
     "output_type": "execute_result"
    }
   ],
   "source": [
    "# Set up Splinter\n",
    "executable_path = {'executable_path': ChromeDriverManager().install()}\n",
    "browser = Browser('chrome', **executable_path, headless=False)\n",
    "\n",
    "# Visit visitcostarica.herokuapp.com\n",
    "url = \"https://redplanetscience.com/\"\n",
    "browser.visit(url)\n",
    "\n",
    "time.sleep(5)\n",
    "\n",
    "html = browser.html\n",
    "soup = bs(html,'html.parser')\n",
    "\n",
    "results_headline = soup.find_all('div', \"content_title\")\n",
    "# number = len(results_headline)\n",
    "\n",
    "# articles[\"headline\"] = soup.find('div', \"content_title\").get_text()\n",
    "# articles[\"paragraph\"] = soup.find('div', \"article_teaser_body\").get_text()\n",
    "# articles[\"date\"] = soup.find('div', \"list_date\").get_text()\n",
    "pprint(results_headline)"
   ]
  },
  {
   "cell_type": "code",
   "execution_count": 28,
   "id": "33a0d9e3",
   "metadata": {},
   "outputs": [
    {
     "name": "stdout",
     "output_type": "stream",
     "text": [
      "[{'date': 'March 12, 2022',\n",
      "  'headline': \"NASA's InSight Flexes Its Arm While Its 'Mole' Hits Pause\",\n",
      "  'paragraph': \"Now that the lander's robotic arm has helped the mole get \"\n",
      "               'underground, it will resume science activities that have been '\n",
      "               'on hold.'},\n",
      " {'date': 'March 11, 2022',\n",
      "  'headline': \"NASA's Perseverance Rover Will Look at Mars Through These \"\n",
      "              \"'Eyes'\",\n",
      "  'paragraph': 'A pair of zoomable cameras will help scientists and rover '\n",
      "               'drivers with high-resolution color images.'},\n",
      " {'date': 'March 9, 2022',\n",
      "  'headline': \"NASA Readies Perseverance Mars Rover's Earthly Twin \",\n",
      "  'paragraph': \"Did you know NASA's next Mars rover has a nearly identical \"\n",
      "               \"sibling on Earth for testing? Even better, it's about to roll \"\n",
      "               'for the first time through a replica Martian landscape.'},\n",
      " {'date': 'March 2, 2022',\n",
      "  'headline': 'NASA Moves Forward With Campaign to Return Mars Samples to '\n",
      "              'Earth',\n",
      "  'paragraph': 'During this next phase, the program will mature critical '\n",
      "               'technologies and make critical design decisions as well as '\n",
      "               'assess industry partnerships.'},\n",
      " {'date': 'March 2, 2022',\n",
      "  'headline': \"What's Mars Solar Conjunction, and Why Does It Matter?\",\n",
      "  'paragraph': 'NASA spacecraft at Mars are going to be on their own for a few '\n",
      "               'weeks when the Sun comes between Mars and Earth, interrupting '\n",
      "               'communications.'},\n",
      " {'date': 'February 28, 2022',\n",
      "  'headline': \"NASA's Perseverance Rover Will Peer Beneath Mars' Surface \",\n",
      "  'paragraph': \"The agency's newest rover will use the first \"\n",
      "               'ground-penetrating radar instrument on the Martian surface to '\n",
      "               'help search for signs of past microbial life. '},\n",
      " {'date': 'February 27, 2022',\n",
      "  'headline': \"NASA's Mars Perseverance Rover Gets Its Sample Handling System\",\n",
      "  'paragraph': 'The system will be collecting and storing Martian rock and '\n",
      "               'soil. Its installation marks another milestone in the march '\n",
      "               'toward the July launch period.'},\n",
      " {'date': 'February 25, 2022',\n",
      "  'headline': \"Mars Helicopter Attached to NASA's Perseverance Rover\",\n",
      "  'paragraph': \"The team also fueled the rover's sky crane to get ready for \"\n",
      "               \"this summer's history-making launch.\"},\n",
      " {'date': 'February 23, 2022',\n",
      "  'headline': 'Global Storms on Mars Launch Dust Towers Into the Sky',\n",
      "  'paragraph': 'A Mars Dust Tower Stands Out Dust storms are common on Mars. '\n",
      "               'But every decade or so, something unpredictable happens: a '\n",
      "               'series of runaway storms break out, covering the entire planet '\n",
      "               'in a dusty haze.'},\n",
      " {'date': 'February 21, 2022',\n",
      "  'headline': \"Nine Finalists Chosen in NASA's Mars 2020 Rover Naming Contest\",\n",
      "  'paragraph': 'Nine finalists have been chosen in the essay contest for K-12 '\n",
      "               \"students across U.S. to name NASA's next Mars rover. Now you \"\n",
      "               'can help by voting for your favorite. '},\n",
      " {'date': 'February 20, 2022',\n",
      "  'headline': \"From JPL's Mailroom to Mars and Beyond\",\n",
      "  'paragraph': 'Bill Allen has thrived as the mechanical systems design lead '\n",
      "               'for three Mars rover missions, but he got his start as a '\n",
      "               'teenager sorting letters for the NASA center.'},\n",
      " {'date': 'February 17, 2022',\n",
      "  'headline': \"Mars InSight Lander to Push on Top of the 'Mole'\",\n",
      "  'paragraph': 'Engineers have a plan for pushing down on the heat probe, '\n",
      "               'which has been stuck at the Martian surface for a year.'},\n",
      " {'date': 'February 15, 2022',\n",
      "  'headline': 'NASA Establishes Board to Initially Review Mars Sample Return '\n",
      "              'Plans',\n",
      "  'paragraph': 'The board will assist with analysis of current plans and goals '\n",
      "               'for one of the most difficult missions humanity has ever '\n",
      "               'undertaken.'},\n",
      " {'date': 'February 14, 2022',\n",
      "  'headline': 'Scientists Explore Outback as Testbed for Mars ',\n",
      "  'paragraph': \"Australia provides a great place for NASA's Mars 2020 and the \"\n",
      "               'ESA-Roscosmos ExoMars scientists to hone techniques in '\n",
      "               'preparation for searching for signs ancient life on Mars.'},\n",
      " {'date': 'February 12, 2022',\n",
      "  'headline': \"NASA's Curiosity Keeps Rolling As Team Operates Rover From Home\",\n",
      "  'paragraph': 'The team has learned to meet new challenges as they work '\n",
      "               'remotely on the Mars mission.'}]\n"
     ]
    }
   ],
   "source": [
    "articles = []\n",
    "\n",
    "for article in range(number):\n",
    "    headline = soup.find_all('div', \"content_title\")[article].get_text()\n",
    "    paragraph = soup.find_all('div', \"article_teaser_body\")[article].get_text()\n",
    "    date = soup.find_all('div', \"list_date\")[article].get_text()\n",
    "    articles.append({\"headline\": headline, \"paragraph\": paragraph, \"date\": date})\n",
    "\n",
    "pprint(articles)"
   ]
  },
  {
   "cell_type": "code",
   "execution_count": null,
   "id": "5ec3562c",
   "metadata": {},
   "outputs": [],
   "source": [
    "soupt = bs()"
   ]
  },
  {
   "cell_type": "code",
   "execution_count": null,
   "id": "c247cfcd",
   "metadata": {},
   "outputs": [],
   "source": [
    "titles = soup.find_all('p', class_ = \"card-text\")\n",
    "\n",
    "for title in titles:\n",
    "    print(title.text)"
   ]
  },
  {
   "cell_type": "code",
   "execution_count": null,
   "id": "e845882e",
   "metadata": {},
   "outputs": [],
   "source": []
  }
 ],
 "metadata": {
  "kernelspec": {
   "display_name": "pythondata",
   "language": "python",
   "name": "pythondata"
  },
  "language_info": {
   "codemirror_mode": {
    "name": "ipython",
    "version": 3
   },
   "file_extension": ".py",
   "mimetype": "text/x-python",
   "name": "python",
   "nbconvert_exporter": "python",
   "pygments_lexer": "ipython3",
   "version": "3.8.12"
  }
 },
 "nbformat": 4,
 "nbformat_minor": 5
}
