{
 "cells": [
  {
   "cell_type": "code",
   "execution_count": 1,
   "id": "1f02e479",
   "metadata": {},
   "outputs": [],
   "source": [
    "# include dependencies\n",
    "\n",
    "from splinter import Browser\n",
    "from bs4 import BeautifulSoup as bs\n",
    "import time\n",
    "from webdriver_manager.chrome import ChromeDriverManager\n",
    "import requests\n",
    "\n",
    "from flask import Flask, render_template, redirect\n",
    "from flask_pymongo import PyMongo\n",
    "from pprint import pprint\n",
    "import pandas as pd\n",
    "import datetime as dt\n",
    "import ssl\n"
   ]
  },
  {
   "cell_type": "code",
   "execution_count": 2,
   "id": "c6921fc1",
   "metadata": {},
   "outputs": [
    {
     "name": "stderr",
     "output_type": "stream",
     "text": [
      "\n",
      "\n",
      "====== WebDriver manager ======\n",
      "Could not get version for google-chrome with the command:  powershell \"$ErrorActionPreference='silentlycontinue' ; (Get-Item -Path \"$env:PROGRAMFILES\\Google\\Chrome\\Application\\chrome.exe\").VersionInfo.FileVersion ; if (-not $? -or $? -match $error) { (Get-Item -Path \"$env:PROGRAMFILES(x86)\\Google\\Chrome\\Application\\chrome.exe\").VersionInfo.FileVersion } if (-not $? -or $? -match $error) { (Get-Item -Path \"$env:LOCALAPPDATA\\Google\\Chrome\\Application\\chrome.exe\").VersionInfo.FileVersion } if (-not $? -or $? -match $error) { reg query \"HKCU\\SOFTWARE\\Google\\Chrome\\BLBeacon\" /v version } if (-not $? -or $? -match $error) { reg query \"HKLM\\SOFTWARE\\Wow6432Node\\Microsoft\\Windows\\CurrentVersion\\Uninstall\\Google Chrome\" /v version }\"\n",
      "Current google-chrome version is UNKNOWN\n",
      "Get LATEST chromedriver version for UNKNOWN google-chrome\n",
      "Trying to download new driver from https://chromedriver.storage.googleapis.com/99.0.4844.51/chromedriver_win32.zip\n",
      "Driver has been saved in cache [C:\\Users\\freed\\.wdm\\drivers\\chromedriver\\win32\\99.0.4844.51]\n"
     ]
    },
    {
     "name": "stdout",
     "output_type": "stream",
     "text": [
      "[<div class=\"content_title\">NASA's Perseverance Rover Bringing 3D-Printed Metal Parts to Mars</div>, <div class=\"content_title\">All About the Laser (and Microphone) Atop Mars 2020, NASA's Next Rover</div>, <div class=\"content_title\">Hear Audio From NASA's Perseverance As It Travels Through Deep Space</div>, <div class=\"content_title\">Meet the People Behind NASA's Perseverance Rover</div>, <div class=\"content_title\">Common Questions about InSight's 'Mole'</div>, <div class=\"content_title\">5 Hidden Gems Are Riding Aboard NASA's Perseverance Rover</div>, <div class=\"content_title\">NASA's Curiosity Takes Selfie With 'Mary Anning' on the Red Planet</div>, <div class=\"content_title\">Air Deliveries Bring NASA's Perseverance Mars Rover Closer to Launch</div>, <div class=\"content_title\">Join NASA for the Launch of the Mars 2020 Perseverance Rover</div>, <div class=\"content_title\">Deadline Closing for Names to Fly on NASA's Next Mars Rover</div>, <div class=\"content_title\">NASA Mars Mission Connects With Bosnian and Herzegovinian Town</div>, <div class=\"content_title\">Scientists Explore Outback as Testbed for Mars </div>, <div class=\"content_title\">NASA's Perseverance Rover Will Look at Mars Through These 'Eyes'</div>, <div class=\"content_title\">NASA's Mars 2020 Comes Full Circle</div>, <div class=\"content_title\">Mars 2020 Stands on Its Own Six Wheels</div>]\n"
     ]
    }
   ],
   "source": [
    "# Set up Splinter\n",
    "executable_path = {'executable_path': ChromeDriverManager().install()}\n",
    "browser = Browser('chrome', **executable_path, headless=False)\n",
    "\n",
    "# Visit redplanetscience.com\n",
    "url = \"https://redplanetscience.com/\"\n",
    "browser.visit(url)\n",
    "\n",
    "time.sleep(5)\n",
    "\n",
    "html = browser.html\n",
    "soup = bs(html,'html.parser')\n",
    "\n",
    "results_headline = soup.find_all('div', \"content_title\")\n",
    "number = len(results_headline)\n",
    "print(results_headline)"
   ]
  },
  {
   "cell_type": "code",
   "execution_count": 3,
   "id": "841cc28d",
   "metadata": {},
   "outputs": [
    {
     "name": "stdout",
     "output_type": "stream",
     "text": [
      "[{'date': 'March 16, 2022',\n",
      "  'headline': \"NASA's Perseverance Rover Bringing 3D-Printed Metal Parts to \"\n",
      "              'Mars',\n",
      "  'paragraph': 'For hobbyists and makers, 3D printing expands creative '\n",
      "               \"possibilities; for specialized engineers, it's also key to \"\n",
      "               'next-generation spacecraft design.'},\n",
      " {'date': 'March 15, 2022',\n",
      "  'headline': \"All About the Laser (and Microphone) Atop Mars 2020, NASA's \"\n",
      "              'Next Rover',\n",
      "  'paragraph': 'SuperCam is a rock-vaporizing instrument that will help '\n",
      "               'scientists hunt for Mars fossils.'},\n",
      " {'date': 'March 10, 2022',\n",
      "  'headline': \"Hear Audio From NASA's Perseverance As It Travels Through Deep \"\n",
      "              'Space',\n",
      "  'paragraph': \"The first to be rigged with microphones, the agency's latest \"\n",
      "               'Mars rover picked up the subtle sounds of its own inner '\n",
      "               'workings during interplanetary flight.'},\n",
      " {'date': 'March 5, 2022',\n",
      "  'headline': \"Meet the People Behind NASA's Perseverance Rover\",\n",
      "  'paragraph': \"These are the scientists and engineers who built NASA's next \"\n",
      "               'Mars rover and who will guide it to a safe landing in Jezero '\n",
      "               'Crater. '},\n",
      " {'date': 'March 4, 2022',\n",
      "  'headline': \"Common Questions about InSight's 'Mole'\",\n",
      "  'paragraph': 'The following Q&As with members of the team answer some of the '\n",
      "               'most common questions about the burrowing device, part of a '\n",
      "               'science instrument called the Heat Flow and Physical '\n",
      "               'Properties Package (HP3).'},\n",
      " {'date': 'March 2, 2022',\n",
      "  'headline': \"5 Hidden Gems Are Riding Aboard NASA's Perseverance Rover\",\n",
      "  'paragraph': \"The symbols, mottos, and small objects added to the agency's \"\n",
      "               'newest Mars rover serve a variety of purposes, from functional '\n",
      "               'to decorative.'},\n",
      " {'date': 'February 26, 2022',\n",
      "  'headline': \"NASA's Curiosity Takes Selfie With 'Mary Anning' on the Red \"\n",
      "              'Planet',\n",
      "  'paragraph': 'The Mars rover has drilled three samples of rock in this '\n",
      "               'clay-enriched region since arriving in July.'},\n",
      " {'date': 'February 23, 2022',\n",
      "  'headline': \"Air Deliveries Bring NASA's Perseverance Mars Rover Closer to \"\n",
      "              'Launch',\n",
      "  'paragraph': 'A NASA Wallops Flight Facility cargo plane transported more '\n",
      "               \"than two tons of equipment — including the rover's sample \"\n",
      "               \"collection tubes — to Florida for this summer's liftoff.\"},\n",
      " {'date': 'February 23, 2022',\n",
      "  'headline': 'Join NASA for the Launch of the Mars 2020 Perseverance Rover',\n",
      "  'paragraph': 'No matter where you live, choose from a menu of activities to '\n",
      "               'join NASA as we \"Countdown to Mars\" and launch the '\n",
      "               'Perseverance rover to the Red Planet.'},\n",
      " {'date': 'February 22, 2022',\n",
      "  'headline': \"Deadline Closing for Names to Fly on NASA's Next Mars Rover\",\n",
      "  'paragraph': 'You have until Sept. 30 to send your names to Mars aboard the '\n",
      "               'Mars 2020 rover. '},\n",
      " {'date': 'February 19, 2022',\n",
      "  'headline': 'NASA Mars Mission Connects With Bosnian and Herzegovinian Town',\n",
      "  'paragraph': 'A letter from NASA was presented to the mayor of Jezero, '\n",
      "               'Bosnia-Herzegovina, honoring the connection between the town '\n",
      "               'and Jezero Crater, the Mars 2020 rover landing site.'},\n",
      " {'date': 'February 19, 2022',\n",
      "  'headline': 'Scientists Explore Outback as Testbed for Mars ',\n",
      "  'paragraph': \"Australia provides a great place for NASA's Mars 2020 and the \"\n",
      "               'ESA-Roscosmos ExoMars scientists to hone techniques in '\n",
      "               'preparation for searching for signs ancient life on Mars.'},\n",
      " {'date': 'February 17, 2022',\n",
      "  'headline': \"NASA's Perseverance Rover Will Look at Mars Through These \"\n",
      "              \"'Eyes'\",\n",
      "  'paragraph': 'A pair of zoomable cameras will help scientists and rover '\n",
      "               'drivers with high-resolution color images.'},\n",
      " {'date': 'February 16, 2022',\n",
      "  'headline': \"NASA's Mars 2020 Comes Full Circle\",\n",
      "  'paragraph': \"Aiming to pinpoint the Martian vehicle's center of gravity, \"\n",
      "               \"engineers took NASA's 2,300-pound Mars 2020 rover for a spin \"\n",
      "               'in the clean room at JPL. '},\n",
      " {'date': 'February 16, 2022',\n",
      "  'headline': 'Mars 2020 Stands on Its Own Six Wheels',\n",
      "  'paragraph': 'In time-lapse video, taken at JPL, captures the first time '\n",
      "               \"NASA's Mars 2020 rover carries its full weight on its legs and \"\n",
      "               'wheels.'}]\n"
     ]
    }
   ],
   "source": [
    "articles = []\n",
    "\n",
    "for article in range(number):\n",
    "    headline = soup.find_all('div', \"content_title\")[article].get_text()\n",
    "    paragraph = soup.find_all('div', \"article_teaser_body\")[article].get_text()\n",
    "    date = soup.find_all('div', \"list_date\")[article].get_text()\n",
    "    articles.append({\"headline\": headline, \"paragraph\": paragraph, \"date\": date})\n",
    "\n",
    "pprint(articles)"
   ]
  },
  {
   "cell_type": "code",
   "execution_count": 4,
   "id": "5ec3562c",
   "metadata": {},
   "outputs": [
    {
     "name": "stdout",
     "output_type": "stream",
     "text": [
      "Latest News Article Headline: NASA's Perseverance Rover Bringing 3D-Printed Metal Parts to Mars\n",
      "Latest News Article Date: 2022-03-16\n",
      "Latest News Article Paragraph: For hobbyists and makers, 3D printing expands creative possibilities; for specialized engineers, it's also key to next-generation spacecraft design.\n"
     ]
    }
   ],
   "source": [
    "# convert dictionary into df\n",
    "latest_article_df = pd.DataFrame(articles)\n",
    "\n",
    "# convert date into datetime data element to enable sorting\n",
    "latest_article_df[\"date\"] = latest_article_df[\"date\"].astype(str)\n",
    "latest_article_df[\"date\"] = pd.to_datetime(latest_article_df[\"date\"]).dt.date\n",
    "latest_article_df.sort_values(by=\"date\", inplace=True, ascending = False)\n",
    "\n",
    "# pull 1st value for 1st record and assign to variables that can be leveraged later\n",
    "most_recent_headline = latest_article_df.iloc[0, 0]\n",
    "most_recent_date = latest_article_df.iloc[0, 2]\n",
    "most_recent_paragraph = latest_article_df.iloc[0, 1]\n",
    "\n",
    "print(f\"Latest News Article Headline: {most_recent_headline}\")\n",
    "print(f\"Latest News Article Date: {most_recent_date}\")\n",
    "print(f\"Latest News Article Paragraph: {most_recent_paragraph}\")"
   ]
  },
  {
   "cell_type": "code",
   "execution_count": 5,
   "id": "e845882e",
   "metadata": {},
   "outputs": [
    {
     "name": "stderr",
     "output_type": "stream",
     "text": [
      "\n",
      "\n",
      "====== WebDriver manager ======\n",
      "Could not get version for google-chrome with the command:  powershell \"$ErrorActionPreference='silentlycontinue' ; (Get-Item -Path \"$env:PROGRAMFILES\\Google\\Chrome\\Application\\chrome.exe\").VersionInfo.FileVersion ; if (-not $? -or $? -match $error) { (Get-Item -Path \"$env:PROGRAMFILES(x86)\\Google\\Chrome\\Application\\chrome.exe\").VersionInfo.FileVersion } if (-not $? -or $? -match $error) { (Get-Item -Path \"$env:LOCALAPPDATA\\Google\\Chrome\\Application\\chrome.exe\").VersionInfo.FileVersion } if (-not $? -or $? -match $error) { reg query \"HKCU\\SOFTWARE\\Google\\Chrome\\BLBeacon\" /v version } if (-not $? -or $? -match $error) { reg query \"HKLM\\SOFTWARE\\Wow6432Node\\Microsoft\\Windows\\CurrentVersion\\Uninstall\\Google Chrome\" /v version }\"\n",
      "Current google-chrome version is UNKNOWN\n",
      "Get LATEST chromedriver version for UNKNOWN google-chrome\n",
      "Trying to download new driver from https://chromedriver.storage.googleapis.com/99.0.4844.51/chromedriver_win32.zip\n",
      "Driver has been saved in cache [C:\\Users\\freed\\.wdm\\drivers\\chromedriver\\win32\\99.0.4844.51]\n"
     ]
    },
    {
     "name": "stdout",
     "output_type": "stream",
     "text": [
      "Featured Image URL: <splinter.driver.webdriver.WebDriverElement object at 0x000002D7776621F0>\n"
     ]
    },
    {
     "data": {
      "text/plain": [
       "'https://spaceimages-mars.com/image/featured/mars2.jpg'"
      ]
     },
     "execution_count": 5,
     "metadata": {},
     "output_type": "execute_result"
    }
   ],
   "source": [
    "# Set up Splinter\n",
    "executable_path = {'executable_path': ChromeDriverManager().install()}\n",
    "browser = Browser('chrome', **executable_path, headless=False)\n",
    "\n",
    "url = \"https://spaceimages-mars.com/\"\n",
    "browser.visit(url)\n",
    "\n",
    "time.sleep(5)\n",
    "\n",
    "# capture the complete url string for this image\n",
    "image_path = browser.find_by_tag('button')[1]\n",
    "image_path.click()\n",
    "print(f\"Featured Image URL: {image_path}\")\n",
    "\n",
    "html = browser.html\n",
    "soup_image = bs(html,'html.parser')\n",
    "\n",
    "image_url_path = soup_image.find('img', 'fancybox-image')['src']\n",
    "\n",
    "image_url = url + image_url_path\n",
    "    \n",
    "image_url"
   ]
  },
  {
   "cell_type": "code",
   "execution_count": 6,
   "id": "76aab266",
   "metadata": {},
   "outputs": [],
   "source": [
    "ssl._create_default_https_context = ssl._create_unverified_context"
   ]
  },
  {
   "cell_type": "code",
   "execution_count": 7,
   "id": "ff5af918",
   "metadata": {},
   "outputs": [],
   "source": [
    "url = 'https://galaxyfacts-mars.com'"
   ]
  },
  {
   "cell_type": "code",
   "execution_count": 8,
   "id": "b72fcc28",
   "metadata": {},
   "outputs": [],
   "source": [
    "mars_table_list = pd.read_html(url, header = 0)\n",
    "mars_table_df = mars_table_list[0]\n",
    "mars_table_df.set_index(keys=\"Mars - Earth Comparison\",inplace=True)\n",
    "mars_table_df.to_html('mars_table.html')"
   ]
  },
  {
   "cell_type": "code",
   "execution_count": 9,
   "id": "4d7890d7",
   "metadata": {},
   "outputs": [
    {
     "data": {
      "text/html": [
       "<div>\n",
       "<style scoped>\n",
       "    .dataframe tbody tr th:only-of-type {\n",
       "        vertical-align: middle;\n",
       "    }\n",
       "\n",
       "    .dataframe tbody tr th {\n",
       "        vertical-align: top;\n",
       "    }\n",
       "\n",
       "    .dataframe thead th {\n",
       "        text-align: right;\n",
       "    }\n",
       "</style>\n",
       "<table border=\"1\" class=\"dataframe\">\n",
       "  <thead>\n",
       "    <tr style=\"text-align: right;\">\n",
       "      <th></th>\n",
       "      <th>Mars</th>\n",
       "      <th>Earth</th>\n",
       "    </tr>\n",
       "    <tr>\n",
       "      <th>Mars - Earth Comparison</th>\n",
       "      <th></th>\n",
       "      <th></th>\n",
       "    </tr>\n",
       "  </thead>\n",
       "  <tbody>\n",
       "    <tr>\n",
       "      <th>Diameter:</th>\n",
       "      <td>6,779 km</td>\n",
       "      <td>12,742 km</td>\n",
       "    </tr>\n",
       "    <tr>\n",
       "      <th>Mass:</th>\n",
       "      <td>6.39 × 10^23 kg</td>\n",
       "      <td>5.97 × 10^24 kg</td>\n",
       "    </tr>\n",
       "    <tr>\n",
       "      <th>Moons:</th>\n",
       "      <td>2</td>\n",
       "      <td>1</td>\n",
       "    </tr>\n",
       "    <tr>\n",
       "      <th>Distance from Sun:</th>\n",
       "      <td>227,943,824 km</td>\n",
       "      <td>149,598,262 km</td>\n",
       "    </tr>\n",
       "    <tr>\n",
       "      <th>Length of Year:</th>\n",
       "      <td>687 Earth days</td>\n",
       "      <td>365.24 days</td>\n",
       "    </tr>\n",
       "    <tr>\n",
       "      <th>Temperature:</th>\n",
       "      <td>-87 to -5 °C</td>\n",
       "      <td>-88 to 58°C</td>\n",
       "    </tr>\n",
       "  </tbody>\n",
       "</table>\n",
       "</div>"
      ],
      "text/plain": [
       "                                    Mars            Earth\n",
       "Mars - Earth Comparison                                  \n",
       "Diameter:                       6,779 km        12,742 km\n",
       "Mass:                    6.39 × 10^23 kg  5.97 × 10^24 kg\n",
       "Moons:                                 2                1\n",
       "Distance from Sun:        227,943,824 km   149,598,262 km\n",
       "Length of Year:           687 Earth days      365.24 days\n",
       "Temperature:                -87 to -5 °C      -88 to 58°C"
      ]
     },
     "execution_count": 9,
     "metadata": {},
     "output_type": "execute_result"
    }
   ],
   "source": [
    "mars_table_df"
   ]
  },
  {
   "cell_type": "code",
   "execution_count": 10,
   "id": "ef4c8515",
   "metadata": {},
   "outputs": [
    {
     "name": "stderr",
     "output_type": "stream",
     "text": [
      "\n",
      "\n",
      "====== WebDriver manager ======\n",
      "Could not get version for google-chrome with the command:  powershell \"$ErrorActionPreference='silentlycontinue' ; (Get-Item -Path \"$env:PROGRAMFILES\\Google\\Chrome\\Application\\chrome.exe\").VersionInfo.FileVersion ; if (-not $? -or $? -match $error) { (Get-Item -Path \"$env:PROGRAMFILES(x86)\\Google\\Chrome\\Application\\chrome.exe\").VersionInfo.FileVersion } if (-not $? -or $? -match $error) { (Get-Item -Path \"$env:LOCALAPPDATA\\Google\\Chrome\\Application\\chrome.exe\").VersionInfo.FileVersion } if (-not $? -or $? -match $error) { reg query \"HKCU\\SOFTWARE\\Google\\Chrome\\BLBeacon\" /v version } if (-not $? -or $? -match $error) { reg query \"HKLM\\SOFTWARE\\Wow6432Node\\Microsoft\\Windows\\CurrentVersion\\Uninstall\\Google Chrome\" /v version }\"\n",
      "Current google-chrome version is UNKNOWN\n",
      "Get LATEST chromedriver version for UNKNOWN google-chrome\n",
      "Trying to download new driver from https://chromedriver.storage.googleapis.com/99.0.4844.51/chromedriver_win32.zip\n",
      "Driver has been saved in cache [C:\\Users\\freed\\.wdm\\drivers\\chromedriver\\win32\\99.0.4844.51]\n"
     ]
    },
    {
     "name": "stdout",
     "output_type": "stream",
     "text": [
      "[{'title': 'Cerberus Hemisphere Enhanced', 'full_image_url': 'https://marshemispheres.com/images/f5e372a36edfa389625da6d0cc25d905_cerberus_enhanced.tif_full.jpg'}, {'title': 'Schiaparelli Hemisphere Enhanced', 'full_image_url': 'https://marshemispheres.com/images/3778f7b43bbbc89d6e3cfabb3613ba93_schiaparelli_enhanced.tif_full.jpg'}, {'title': 'Syrtis Major Hemisphere Enhanced', 'full_image_url': 'https://marshemispheres.com/images/555e6403a6ddd7ba16ddb0e471cadcf7_syrtis_major_enhanced.tif_full.jpg'}, {'title': 'Valles Marineris Hemisphere Enhanced', 'full_image_url': 'https://marshemispheres.com/images/b3c7c6c9138f57b4756be9b9c43e3a48_valles_marineris_enhanced.tif_full.jpg'}]\n"
     ]
    }
   ],
   "source": [
    "# Set up Splinter\n",
    "executable_path = {'executable_path': ChromeDriverManager().install()}\n",
    "browser = Browser('chrome', **executable_path, headless=False)\n",
    "\n",
    "# Visit https://marshemispheres.com\n",
    "url = \"https://marshemispheres.com/\"\n",
    "browser.visit(url)\n",
    "\n",
    "time.sleep(5)\n",
    "\n",
    "html = browser.html\n",
    "soup = bs(html,'html.parser')\n",
    "\n",
    "results_links = soup.find_all('div', 'item')\n",
    "# pprint(results_links)\n",
    "image_list = []\n",
    "\n",
    "for result in results_links:\n",
    "    image_link = ''\n",
    "    url = \"https://marshemispheres.com/\"\n",
    "    title=''\n",
    "    title = result.find('h3').text\n",
    "    image_link = result.find('a', class_=\"itemLink product-item\")[\"href\"]\n",
    "    image_name = image_link.replace(\".html\", \"\")\n",
    "    url = url + image_link\n",
    "    image_list.append(url)\n",
    "\n",
    "full_image_dict = []\n",
    "    \n",
    "for link in image_list:\n",
    "    url = \"https://marshemispheres.com/\"\n",
    "    browser.visit(link)\n",
    "    hemisphere_html = browser.html\n",
    "    hemisphere_soup = bs(hemisphere_html, \"html.parser\")\n",
    "    title = hemisphere_soup.find('div', 'cover').find('h2', 'title').text\n",
    "    full_image_link = hemisphere_soup.find('img', 'wide-image')['src']\n",
    "    url = url + full_image_link\n",
    "    full_image_dict.append({\"title\": title, \"full_image_url\": url})   \n",
    "\n",
    "    \n",
    "\n",
    "print(full_image_dict)"
   ]
  },
  {
   "cell_type": "code",
   "execution_count": null,
   "id": "3a2b3da8",
   "metadata": {},
   "outputs": [],
   "source": []
  }
 ],
 "metadata": {
  "kernelspec": {
   "display_name": "pythondata",
   "language": "python",
   "name": "pythondata"
  },
  "language_info": {
   "codemirror_mode": {
    "name": "ipython",
    "version": 3
   },
   "file_extension": ".py",
   "mimetype": "text/x-python",
   "name": "python",
   "nbconvert_exporter": "python",
   "pygments_lexer": "ipython3",
   "version": "3.8.12"
  }
 },
 "nbformat": 4,
 "nbformat_minor": 5
}
